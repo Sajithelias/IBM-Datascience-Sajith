{
 "cells": [
  {
   "cell_type": "code",
   "execution_count": null,
   "id": "b4a3ba6f",
   "metadata": {},
   "outputs": [],
   "source": [
    "!pip install yfinance==0.2.4\n",
    "!pip install pandas==1.3.3\n",
    "import yfinance as yf\n",
    "import pandas as pd\n",
    "apple = yf.Ticker(\"AAPL\")\n",
    "!wget https://cf-courses-data.s3.us.cloud-object-storage.appdomain.cloud/IBMDeveloperSkillsNetwork-PY0220EN-SkillsNetwork/data/apple.json\n",
    "import json\n",
    "with open('apple.json') as json_file:\n",
    "    apple_info = json.load(json_file)\n",
    "    # Print the type of data variable    \n",
    "    #print(\"Type:\", type(apple_info))\n",
    "apple_info\n",
    "apple_info['country']\n",
    "apple_share_price_data = apple.history(period=\"max\")\n",
    "apple_share_price_data.head()\n",
    "apple_share_price_data.reset_index(inplace=True)\n",
    "apple_share_price_data.plot(x=\"Date\", y=\"Open\")\n",
    "apple.dividends\n",
    "apple.dividends.plot()"
   ]
  },
  {
   "cell_type": "code",
   "execution_count": null,
   "id": "92341a87",
   "metadata": {},
   "outputs": [],
   "source": []
  },
  {
   "cell_type": "code",
   "execution_count": null,
   "id": "0c32196f",
   "metadata": {},
   "outputs": [],
   "source": []
  }
 ],
 "metadata": {
  "kernelspec": {
   "display_name": "Python 3 (ipykernel)",
   "language": "python",
   "name": "python3"
  },
  "language_info": {
   "codemirror_mode": {
    "name": "ipython",
    "version": 3
   },
   "file_extension": ".py",
   "mimetype": "text/x-python",
   "name": "python",
   "nbconvert_exporter": "python",
   "pygments_lexer": "ipython3",
   "version": "3.10.9"
  }
 },
 "nbformat": 4,
 "nbformat_minor": 5
}
